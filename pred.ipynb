{
 "cells": [
  {
   "cell_type": "code",
   "execution_count": 1,
   "metadata": {},
   "outputs": [
    {
     "name": "stderr",
     "output_type": "stream",
     "text": [
      "Using TensorFlow backend.\n"
     ]
    }
   ],
   "source": [
    "import os\n",
    "import keras\n",
    "import cv2\n",
    "import pickle\n",
    "import numpy as np\n"
   ]
  },
  {
   "cell_type": "code",
   "execution_count": 2,
   "metadata": {},
   "outputs": [],
   "source": [
    "with open('pikle.data', 'rb') as file:\n",
    "    data = pickle.load(file)"
   ]
  },
  {
   "cell_type": "code",
   "execution_count": 3,
   "metadata": {},
   "outputs": [],
   "source": [
    "classifier = data['classifier']"
   ]
  },
  {
   "cell_type": "code",
   "execution_count": 4,
   "metadata": {},
   "outputs": [
    {
     "data": {
      "text/plain": [
       "<keras.engine.sequential.Sequential at 0x22d61e0bac8>"
      ]
     },
     "execution_count": 4,
     "metadata": {},
     "output_type": "execute_result"
    }
   ],
   "source": [
    "classifier"
   ]
  },
  {
   "cell_type": "code",
   "execution_count": 5,
   "metadata": {},
   "outputs": [
    {
     "data": {
      "text/plain": [
       "(169, 50, 50, 3)"
      ]
     },
     "execution_count": 5,
     "metadata": {},
     "output_type": "execute_result"
    }
   ],
   "source": [
    "imgp = []\n",
    "imgn = []\n",
    "\n",
    "for i in os.listdir('./te/p'):\n",
    "    if 'jpg' in i:\n",
    "        img = cv2.resize(cv2.imread('./te/p/'+i),(50,50))\n",
    "        imgp.append(img)\n",
    "\n",
    "for i in os.listdir('./te/n'):\n",
    "    if 'jpg' in i:\n",
    "        img = cv2.resize(cv2.imread('./te/n/'+i),(50,50))\n",
    "        imgn.append(img)\n",
    "\n",
    "    \n",
    "imgp = np.asarray(imgp)\n",
    "imgn = np.asarray(imgn)\n",
    "\n",
    "imgp.shape"
   ]
  },
  {
   "cell_type": "code",
   "execution_count": 8,
   "metadata": {},
   "outputs": [
    {
     "name": "stdout",
     "output_type": "stream",
     "text": [
      "1  :  15495366144143646.jpg\n",
      "0  :  1549536616797246.jpg\n",
      "1  :  15495366168462296.jpg\n",
      "0  :  15495366173716676.jpg\n",
      "0  :  15495366174176536.jpg\n",
      "0  :  1549536618490536.jpg\n",
      "0  :  1549536618590506.jpg\n",
      "0  :  15495366191445436.jpg\n",
      "0  :  1549536621076666.jpg\n",
      "0  :  15495366213517036.jpg\n",
      "0  :  15495366218050606.jpg\n",
      "0  :  15495366231658616.jpg\n",
      "0  :  1549536623382626.jpg\n",
      "0  :  15495366235328906.jpg\n",
      "0  :  15495366254309416.jpg\n",
      "0  :  15495366263865666.jpg\n",
      "0  :  1549536627645126.jpg\n",
      "0  :  15495366302250366.jpg\n",
      "0  :  15495366303911746.jpg\n",
      "0  :  15495366307355516.jpg\n",
      "0  :  1549536630807526.jpg\n",
      "0  :  15495366313453736.jpg\n",
      "1  :  15495366315957706.jpg\n",
      "1  :  15495366327935436.jpg\n",
      "0  :  15495366328435426.jpg\n",
      "0  :  1549536632915516.jpg\n",
      "1  :  15495366348286746.jpg\n",
      "1  :  15495366353408456.jpg\n",
      "1  :  15495366355557766.jpg\n",
      "1  :  15495366356027596.jpg\n",
      "0  :  15495366358426816.jpg\n",
      "1  :  15495366367191796.jpg\n",
      "0  :  15495366367669976.jpg\n",
      "1  :  15495366373439436.jpg\n",
      "1  :  1549536639108076.jpg\n",
      "1  :  1549536639905136.jpg\n",
      "1  :  15495366401259496.jpg\n",
      "1  :  15495366402607036.jpg\n",
      "0  :  15495366403770626.jpg\n",
      "0  :  15495366415314956.jpg\n",
      "0  :  15495366420834796.jpg\n",
      "1  :  154953664416166.jpg\n",
      "1  :  1549536644435616.jpg\n",
      "0  :  15495366451534956.jpg\n",
      "0  :  15495366455329726.jpg\n",
      "0  :  1549536646485996.jpg\n",
      "0  :  15495366465512626.jpg\n",
      "0  :  15495366471534936.jpg\n",
      "0  :  15495366476944096.jpg\n",
      "1  :  15495366488347056.jpg\n",
      "0  :  15495366498335946.jpg\n",
      "0  :  15495366498906596.jpg\n",
      "0  :  1549536651339556.jpg\n",
      "0  :  15495366516460826.jpg\n",
      "0  :  15495366517028506.jpg\n",
      "0  :  15495366517618296.jpg\n",
      "0  :  15495366520440016.jpg\n",
      "0  :  1549536652108026.jpg\n",
      "0  :  1549536652269446.jpg\n",
      "0  :  15495366530624626.jpg\n",
      "1  :  15495366531185126.jpg\n",
      "1  :  15495366542064426.jpg\n",
      "0  :  15495366542724216.jpg\n",
      "0  :  1549536654502346.jpg\n",
      "0  :  15495366568588386.jpg\n",
      "1  :  15495366582187636.jpg\n",
      "0  :  15495366583303976.jpg\n",
      "1  :  15495366586995206.jpg\n",
      "0  :  1549536660555666.jpg\n",
      "0  :  15495366606116486.jpg\n",
      "1  :  1549536660722966.jpg\n",
      "1  :  15495366614399676.jpg\n",
      "0  :  15495366629021966.jpg\n",
      "0  :  15495366631611106.jpg\n",
      "0  :  15495366632740746.jpg\n",
      "0  :  15495366633780396.jpg\n",
      "0  :  15495366635219936.jpg\n",
      "0  :  1549536663575846.jpg\n",
      "0  :  15495366641797206.jpg\n",
      "0  :  15495366649509706.jpg\n",
      "1  :  1549536665175736.jpg\n",
      "1  :  15495366658087566.jpg\n",
      "1  :  15495366659550436.jpg\n",
      "0  :  15495366661319826.jpg\n",
      "1  :  15495366672431276.jpg\n",
      "1  :  1549536667302236.jpg\n",
      "1  :  15495366673573046.jpg\n",
      "1  :  15495366686044476.jpg\n",
      "1  :  15495366686518376.jpg\n",
      "1  :  15495366687088206.jpg\n",
      "0  :  15495366697145956.jpg\n",
      "1  :  15495366700650206.jpg\n",
      "0  :  15495366703939126.jpg\n",
      "0  :  1549536672087866.jpg\n",
      "0  :  15495366722962866.jpg\n",
      "0  :  15495366723623836.jpg\n",
      "0  :  15495366726382926.jpg\n",
      "0  :  15495366728269296.jpg\n",
      "1  :  15495366753093836.jpg\n",
      "1  :  15495366754213476.jpg\n",
      "1  :  15495366755762956.jpg\n",
      "1  :  1549536675926346.jpg\n",
      "0  :  15495366770581656.jpg\n",
      "0  :  15495366775864916.jpg\n",
      "0  :  1549536677714036.jpg\n",
      "0  :  15495366779220266.jpg\n",
      "1  :  1549536677986006.jpg\n",
      "0  :  15495366780999696.jpg\n",
      "0  :  15495366797040346.jpg\n",
      "1  :  15495366814846306.jpg\n",
      "1  :  15495366816826336.jpg\n",
      "1  :  15495366821409526.jpg\n",
      "1  :  15495366822329226.jpg\n",
      "1  :  15495366823288896.jpg\n",
      "1  :  15495366842910476.jpg\n",
      "0  :  15495366843850346.jpg\n",
      "0  :  15495366845796826.jpg\n",
      "0  :  15495366846426756.jpg\n",
      "1  :  15495366848419406.jpg\n",
      "0  :  15495366850416236.jpg\n",
      "0  :  15495366869121206.jpg\n",
      "0  :  15495366874147496.jpg\n",
      "0  :  154953668853926.jpg\n",
      "1  :  15495366889433706.jpg\n",
      "1  :  15495366893514726.jpg\n",
      "0  :  15495366894584146.jpg\n",
      "0  :  15495366895064006.jpg\n",
      "1  :  15495366895743856.jpg\n",
      "0  :  15495366902568266.jpg\n",
      "0  :  15495366902988126.jpg\n",
      "0  :  15495366903867846.jpg\n",
      "0  :  15495366913192346.jpg\n",
      "0  :  1549536692831636.jpg\n",
      "0  :  15495366931080096.jpg\n",
      "0  :  15495366948542666.jpg\n",
      "0  :  15495366949729846.jpg\n",
      "1  :  15495366950849116.jpg\n",
      "1  :  15495366954717836.jpg\n",
      "0  :  1549536698273126.jpg\n"
     ]
    }
   ],
   "source": [
    "for i in range(len(imgn)):\n",
    "    print(classifier.predict_classes(imgn)[i] ,' : ',os.listdir('./te/n')[i])"
   ]
  },
  {
   "cell_type": "code",
   "execution_count": 34,
   "metadata": {},
   "outputs": [
    {
     "data": {
      "text/plain": [
       "array([1, 0, 1, 0, 0, 0, 0, 0, 0, 0, 0, 0, 0, 0, 0, 0, 0, 0, 0, 0, 0, 0,\n",
       "       1, 1, 0, 0, 1, 1, 1, 1, 0, 1, 0, 1, 1, 1, 1, 1, 0, 0, 0, 1, 1, 0,\n",
       "       0, 0, 0, 0, 0, 1, 0, 0, 0, 0, 0, 0, 0, 0, 0, 0, 1, 1, 0, 0, 0, 1,\n",
       "       0, 1, 0, 0, 1, 1, 0, 0, 0, 0, 0, 0, 0, 0, 1, 1, 1, 0, 1, 1, 1, 1,\n",
       "       1, 1, 0, 1, 0, 0, 0, 0, 0, 0, 1, 1, 1, 1, 0, 0, 0, 0, 1, 0, 0, 1,\n",
       "       1, 1, 1, 1, 1, 0, 0, 0, 1, 0, 0, 0, 0, 1, 1, 0, 0, 1, 0, 0, 0, 0,\n",
       "       0, 0, 0, 0, 1, 1, 0], dtype=int64)"
      ]
     },
     "execution_count": 34,
     "metadata": {},
     "output_type": "execute_result"
    }
   ],
   "source": [
    "classifier.predict_classes(imgn)"
   ]
  },
  {
   "cell_type": "code",
   "execution_count": 23,
   "metadata": {},
   "outputs": [
    {
     "data": {
      "text/plain": [
       "89"
      ]
     },
     "execution_count": 23,
     "metadata": {},
     "output_type": "execute_result"
    }
   ],
   "source": []
  },
  {
   "cell_type": "code",
   "execution_count": null,
   "metadata": {},
   "outputs": [],
   "source": []
  }
 ],
 "metadata": {
  "kernelspec": {
   "display_name": "elsagate-O7ohKbYa",
   "language": "python",
   "name": "elsagate-o7ohkbya"
  },
  "language_info": {
   "codemirror_mode": {
    "name": "ipython",
    "version": 3
   },
   "file_extension": ".py",
   "mimetype": "text/x-python",
   "name": "python",
   "nbconvert_exporter": "python",
   "pygments_lexer": "ipython3",
   "version": "3.6.8"
  }
 },
 "nbformat": 4,
 "nbformat_minor": 2
}
