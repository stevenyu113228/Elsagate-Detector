{
 "cells": [
  {
   "cell_type": "code",
   "execution_count": 90,
   "metadata": {},
   "outputs": [],
   "source": [
    "import requests\n",
    "import cv2\n",
    "import pickle\n",
    "import numpy as np\n",
    "import keras\n",
    "from urllib.parse import urlparse,parse_qs"
   ]
  },
  {
   "cell_type": "code",
   "execution_count": 91,
   "metadata": {},
   "outputs": [],
   "source": [
    "with open('pikle.data','rb') as f:\n",
    "    data = pickle.load(f)\n",
    "global classifier \n",
    "classifier = data['classifier']   "
   ]
  },
  {
   "cell_type": "code",
   "execution_count": 95,
   "metadata": {},
   "outputs": [],
   "source": [
    "def video_id(value):\n",
    "    #from https://stackoverflow.com/questions/4356538/how-can-i-extract-video-id-from-youtubes-link-in-python\n",
    "    query = urlparse(value)\n",
    "    if query.hostname == 'youtu.be':\n",
    "        return query.path[1:]\n",
    "    if query.hostname in ('www.youtube.com', 'youtube.com'):\n",
    "        if query.path == '/watch':\n",
    "            p = parse_qs(query.query)\n",
    "            return p['v'][0]\n",
    "        if query.path[:7] == '/embed/':\n",
    "            return query.path.split('/')[2]\n",
    "        if query.path[:3] == '/v/':\n",
    "            return query.path.split('/')[2]\n",
    "        \n",
    "def chk_is_elsagate(url):\n",
    "    global classifier\n",
    "    vid = video_id(url)\n",
    "    imgurl = \"https://i.ytimg.com/vi/{}/hqdefault.jpg\"\n",
    "    res = requests.get(imgurl.format(vid))\n",
    "    img = np.asarray(bytearray(res.content), dtype=\"uint8\")\n",
    "    img = cv2.imdecode(img, cv2.IMREAD_COLOR)\n",
    "    img = cv2.resize(img,(50,50))\n",
    "    img = img.reshape(1,50,50,3)\n",
    "    classifier = data['classifier']\n",
    "    res = classifier.predict_classes(img)[0]\n",
    "    return res\n",
    "\n",
    "def print_result(res):\n",
    "    if res:\n",
    "        print(\"是Elsa Gate 趕快關掉\")\n",
    "    else:\n",
    "        print(\"因該ㄅ4ㄅ.....因該啦\")"
   ]
  },
  {
   "cell_type": "code",
   "execution_count": 93,
   "metadata": {},
   "outputs": [],
   "source": [
    "urls = [\n",
    "    'https://www.youtube.com/watch?v=ygQSrxkvc-8',#ㄅ4\n",
    "    'https://www.youtube.com/watch?v=quMhxJH9HM8',#4\n",
    "    'https://www.youtube.com/watch?v=RYDf_SpFi-Y',#4\n",
    "    'https://www.youtube.com/watch?v=a09uw9UvNp4',#ㄅ4\n",
    "    'https://www.youtube.com/watch?v=x9gIpr2IJlc',#4\n",
    "    'https://www.youtube.com/watch?v=K9WkgXbnVno',#4\n",
    "]"
   ]
  },
  {
   "cell_type": "code",
   "execution_count": 94,
   "metadata": {},
   "outputs": [
    {
     "name": "stdout",
     "output_type": "stream",
     "text": [
      "因該ㄅ4ㄅ.....因該啦\n",
      "是Elsa Gate 趕快關掉\n",
      "是Elsa Gate 趕快關掉\n",
      "因該ㄅ4ㄅ.....因該啦\n",
      "是Elsa Gate 趕快關掉\n",
      "是Elsa Gate 趕快關掉\n"
     ]
    }
   ],
   "source": [
    "for i in urls:\n",
    "    print_result(chk_is_elsagate(i))"
   ]
  }
 ],
 "metadata": {
  "kernelspec": {
   "display_name": "elsagate-O7ohKbYa",
   "language": "python",
   "name": "elsagate-o7ohkbya"
  },
  "language_info": {
   "codemirror_mode": {
    "name": "ipython",
    "version": 3
   },
   "file_extension": ".py",
   "mimetype": "text/x-python",
   "name": "python",
   "nbconvert_exporter": "python",
   "pygments_lexer": "ipython3",
   "version": "3.6.8"
  }
 },
 "nbformat": 4,
 "nbformat_minor": 2
}
